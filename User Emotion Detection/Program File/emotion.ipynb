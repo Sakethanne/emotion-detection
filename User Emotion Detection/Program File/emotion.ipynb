{
 "cells": [
  {
   "cell_type": "code",
   "execution_count": null,
   "metadata": {
    "collapsed": true
   },
   "outputs": [],
   "source": [
    "import pandas as pd\n",
    "#mails = pd.read_csv('spam.csv', encoding = 'latin-1')\n",
    "#mails.head()\n",
    "gb = pd.read_csv('gb_dataset.csv',encoding = 'latin-1')\n",
    "gb.head()"
   ]
  },
  {
   "cell_type": "code",
   "execution_count": null,
   "metadata": {
    "collapsed": true
   },
   "outputs": [],
   "source": [
    "X = gb.iloc[:, [4,5,6,7,8,9,10,11,12,13,14]].values\n",
    "y = gb.iloc[:, 15].values\n",
    "X"
   ]
  },
  {
   "cell_type": "code",
   "execution_count": null,
   "metadata": {
    "collapsed": true
   },
   "outputs": [],
   "source": [
    "import pandas\n",
    "X\n",
    "df1 = pandas.DataFrame(X)\n",
    "print(df1)"
   ]
  },
  {
   "cell_type": "code",
   "execution_count": null,
   "metadata": {
    "collapsed": true
   },
   "outputs": [],
   "source": [
    "from sklearn.model_selection import train_test_split\n",
    "X_train, X_test, y_train, y_test = train_test_split(X, y, test_size = 0.2)\n",
    "\n",
    "\n"
   ]
  },
  {
   "cell_type": "code",
   "execution_count": null,
   "metadata": {
    "collapsed": true
   },
   "outputs": [],
   "source": [
    "from sklearn import metrics\n",
    "import matplotlib.pyplot as plt\n",
    "from sklearn.linear_model import LogisticRegression\n",
    "from sklearn.cross_validation import cross_val_score\n",
    "from sklearn.model_selection import cross_val_score\n",
    "import sklearn.cross_validation\n",
    "import numpy\n",
    "from sklearn.svm import LinearSVC\n",
    "from sklearn.model_selection import cross_validate\n",
    "from sklearn.neural_network import MLPClassifier\n",
    "from sklearn.metrics import accuracy_score\n",
    "\n",
    "n=4116\n",
    "\n",
    "def Average(lst): \n",
    "    return sum(lst) / len(lst) \n",
    "scoring = ['precision_macro', 'recall_macro','accuracy','f1_macro','roc_auc','neg_log_loss']\n",
    "\n",
    "\n",
    "\n",
    "print('\\n##### Bayes Network#####')\n",
    "gclf1 = GaussianNB()\n",
    "gclf1.fit(X2,y2)\n",
    "gclf = cross_validate(gclf1, X2,y2,  scoring=scoring,cv=10, return_train_score=False)\n",
    "clf_MNB_score_p=gclf['test_precision_macro']\n",
    "clf_MNB_score_r=gclf['test_recall_macro']\n",
    "clf_MNB_score_p = Average(clf_MNB_score_p) \n",
    "clf_MNB_score_r = Average(clf_MNB_score_r) \n",
    "print('NB precision on training data: {}'.format(clf_MNB_score_p))\n",
    "print('NB recall on training data: {}'.format(clf_MNB_score_r))\n",
    "gclf"
   ]
  },
  {
   "cell_type": "code",
   "execution_count": null,
   "metadata": {
    "collapsed": true
   },
   "outputs": [],
   "source": [
    "clfsvm = svm.SVC(kernel='linear', C=1, random_state=4)\n",
    "clfsvm.fit(X2,y2)\n",
    "scoring2=['precision_macro','recall_macro','roc_auc']\n",
    "scoressvm = cross_validate(clfsvm, X2,y2, cv=10, scoring=scoring2,return_train_score=False)\n",
    "\n",
    "scoressvm_p=scoressvm['test_precision_macro']\n",
    "scoressvm_r=gclf['test_recall_macro']\n",
    "scoressvm_p = Average(scoressvm_p) \n",
    "scoressvm_r = Average(scoressvm_r) \n",
    "print('SVM precision on training data: {}'.format(scoressvm_p))\n",
    "print('SVM recall on training data: {}'.format(scoressvm_r))\n",
    "scoressvm\n",
    "\n",
    "\n",
    "\n"
   ]
  },
  {
   "cell_type": "code",
   "execution_count": null,
   "metadata": {
    "collapsed": true
   },
   "outputs": [],
   "source": [
    "mclf = MLPClassifier(solver='lbfgs', alpha=1e-5,hidden_layer_sizes=(5,), max_iter=10,random_state=2)\n",
    "mclf.fit(X, y) \n",
    "print('\\n##### Multilayer Perceptron #####')\n",
    "print('MLP score on training data: {}'.format(mclf.score(X, y)))\n"
   ]
  },
  {
   "cell_type": "code",
   "execution_count": null,
   "metadata": {
    "collapsed": true
   },
   "outputs": [],
   "source": [
    "for j, C in enumerate((100, 1, 0.003)):\n",
    "    # turn down tolerance for short training time\n",
    "    clf_l1_LR = LogisticRegression(C=C, penalty='l1', tol=0.003)\n",
    "    clf_l2_LR = LogisticRegression(C=C, penalty='l2', tol=0.003)\n",
    "    clf_l1_LR.fit(X, y)\n",
    "    clf_l2_LR.fit(X, y)\n",
    "scoring1=['precision_micro','recall_macro','roc_auc']\n",
    "#print('C=%.2f' % C)\n",
    "print('\\n##### LogisticRegression #####')\n",
    "clf_l1_LR=cross_validate(clf_l1_LR, X,y,  scoring=scoring1,cv=10, return_train_score=False)\n",
    "lr_acc_p=clf_l1_LR['test_precision_micro']\n",
    "lr_acc_r=clf_l1_LR['test_recall_macro']\n",
    "lr_average_p = Average(lr_acc_p) \n",
    "lr_average_r = Average(lr_acc_r) \n",
    "print('LR precision on training data: {}'.format(lr_average_p ))\n",
    "print('LR recall on training data: {}'.format(lr_average_r ))\n",
    "\n",
    "\n",
    "clf_l1_LR"
   ]
  },
  {
   "cell_type": "code",
   "execution_count": null,
   "metadata": {
    "collapsed": true
   },
   "outputs": [],
   "source": [
    "scores=[]\n",
    "print('\\n##### Random Forests #####')\n",
    "from sklearn.ensemble import RandomForestClassifier\n",
    "for val in range(1,41):\n",
    "  \n",
    "    clf_RF = RandomForestClassifier(n_estimators=val)\n",
    "    validated=cross_val_score(clf_RF,X, y,cv=20)\n",
    "    scores.append(validated)\n",
    "print('score on training data: {}'.format(scores[20][0]))\n",
    "#print('accuracy on test data: {}'.format(clf_RF.score(X_test,y_test)))\n",
    "print()\n",
    "\n"
   ]
  },
  {
   "cell_type": "code",
   "execution_count": null,
   "metadata": {
    "collapsed": true
   },
   "outputs": [],
   "source": [
    "#for true positive, false postive, true negative, false negative\n",
    "from sklearn.metrics import make_scorer\n",
    "from sklearn.model_selection import cross_validate\n",
    "from sklearn.metrics import confusion_matrix\n",
    "# A sample toy binary classification dataset\n",
    "svm = LinearSVC(random_state=0)\n",
    "def tn(y_true, y_pred): return confusion_matrix(y_true, y_pred)[0, 0]\n",
    "def fp(y_true, y_pred): return confusion_matrix(y_true, y_pred)[0, 1]\n",
    "def fn(y_true, y_pred): return confusion_matrix(y_true, y_pred)[1, 0]\n",
    "def tp(y_true, y_pred): return confusion_matrix(y_true, y_pred)[1, 1]\n",
    "scoring = {'tp': make_scorer(tp), 'tn': make_scorer(tn),'fp': make_scorer(fp), 'fn': make_scorer(fn)}\n",
    "cv_results = cross_validate(svm.fit(X, y), X, y,scoring=scoring, cv=5)\n",
    "print(cv_results)"
   ]
  }
 ],
 "metadata": {
  "kernelspec": {
   "display_name": "Python 3",
   "language": "python",
   "name": "python3"
  },
  "language_info": {
   "codemirror_mode": {
    "name": "ipython",
    "version": 3
   },
   "file_extension": ".py",
   "mimetype": "text/x-python",
   "name": "python",
   "nbconvert_exporter": "python",
   "pygments_lexer": "ipython3",
   "version": "3.6.8"
  }
 },
 "nbformat": 4,
 "nbformat_minor": 2
}
